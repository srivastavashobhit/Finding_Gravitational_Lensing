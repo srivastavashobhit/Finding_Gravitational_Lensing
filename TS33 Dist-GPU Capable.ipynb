{
 "cells": [
  {
   "cell_type": "code",
   "execution_count": 1,
   "id": "71628a45-c630-41ca-9378-15e9fa4ffeb4",
   "metadata": {},
   "outputs": [
    {
     "name": "stdout",
     "output_type": "stream",
     "text": [
      "Defaulting to user installation because normal site-packages is not writeable\n",
      "Requirement already satisfied: tensorflow-addons in ./.local/perlmutter/tensorflow2.9.0/lib/python3.9/site-packages (0.17.1)\n",
      "Requirement already satisfied: typeguard>=2.7 in ./.local/perlmutter/tensorflow2.9.0/lib/python3.9/site-packages (from tensorflow-addons) (2.13.3)\n",
      "Requirement already satisfied: packaging in /global/common/software/nersc/pm-2022q2/sw/tensorflow/2.9.0/lib/python3.9/site-packages (from tensorflow-addons) (21.3)\n",
      "Requirement already satisfied: pyparsing!=3.0.5,>=2.0.2 in /global/common/software/nersc/pm-2022q2/sw/tensorflow/2.9.0/lib/python3.9/site-packages (from packaging->tensorflow-addons) (3.0.9)\n",
      "Note: you may need to restart the kernel to use updated packages.\n"
     ]
    }
   ],
   "source": [
    "pip install tensorflow-addons"
   ]
  },
  {
   "cell_type": "code",
   "execution_count": 2,
   "id": "ad1aeeee",
   "metadata": {},
   "outputs": [
    {
     "name": "stdout",
     "output_type": "stream",
     "text": [
      "Defaulting to user installation because normal site-packages is not writeable\n",
      "Requirement already satisfied: tensorflow==2.9.0 in /global/common/software/nersc/pm-2022q2/sw/tensorflow/2.9.0/lib/python3.9/site-packages (2.9.0)\n",
      "Requirement already satisfied: termcolor>=1.1.0 in /global/common/software/nersc/pm-2022q2/sw/tensorflow/2.9.0/lib/python3.9/site-packages (from tensorflow==2.9.0) (1.1.0)\n",
      "Requirement already satisfied: keras<2.10.0,>=2.9.0rc0 in /global/common/software/nersc/pm-2022q2/sw/tensorflow/2.9.0/lib/python3.9/site-packages (from tensorflow==2.9.0) (2.9.0)\n",
      "Requirement already satisfied: opt-einsum>=2.3.2 in /global/common/software/nersc/pm-2022q2/sw/tensorflow/2.9.0/lib/python3.9/site-packages (from tensorflow==2.9.0) (3.3.0)\n",
      "Requirement already satisfied: gast<=0.4.0,>=0.2.1 in /global/common/software/nersc/pm-2022q2/sw/tensorflow/2.9.0/lib/python3.9/site-packages (from tensorflow==2.9.0) (0.4.0)\n",
      "Requirement already satisfied: wrapt>=1.11.0 in /global/common/software/nersc/pm-2022q2/sw/tensorflow/2.9.0/lib/python3.9/site-packages (from tensorflow==2.9.0) (1.14.1)\n",
      "Requirement already satisfied: h5py>=2.9.0 in /global/common/software/nersc/pm-2022q2/sw/tensorflow/2.9.0/lib/python3.9/site-packages (from tensorflow==2.9.0) (3.7.0)\n",
      "Requirement already satisfied: numpy>=1.20 in /global/common/software/nersc/pm-2022q2/sw/tensorflow/2.9.0/lib/python3.9/site-packages (from tensorflow==2.9.0) (1.22.4)\n",
      "Requirement already satisfied: absl-py>=1.0.0 in /global/common/software/nersc/pm-2022q2/sw/tensorflow/2.9.0/lib/python3.9/site-packages (from tensorflow==2.9.0) (1.1.0)\n",
      "Requirement already satisfied: setuptools in /global/common/software/nersc/pm-2022q2/sw/tensorflow/2.9.0/lib/python3.9/site-packages (from tensorflow==2.9.0) (61.2.0)\n",
      "Requirement already satisfied: packaging in /global/common/software/nersc/pm-2022q2/sw/tensorflow/2.9.0/lib/python3.9/site-packages (from tensorflow==2.9.0) (21.3)\n",
      "Requirement already satisfied: libclang>=13.0.0 in /global/common/software/nersc/pm-2022q2/sw/tensorflow/2.9.0/lib/python3.9/site-packages (from tensorflow==2.9.0) (14.0.1)\n",
      "Requirement already satisfied: astunparse>=1.6.0 in /global/common/software/nersc/pm-2022q2/sw/tensorflow/2.9.0/lib/python3.9/site-packages (from tensorflow==2.9.0) (1.6.3)\n",
      "Requirement already satisfied: protobuf>=3.9.2 in /global/common/software/nersc/pm-2022q2/sw/tensorflow/2.9.0/lib/python3.9/site-packages (from tensorflow==2.9.0) (3.19.4)\n",
      "Requirement already satisfied: tensorflow-estimator<2.10.0,>=2.9.0rc0 in /global/common/software/nersc/pm-2022q2/sw/tensorflow/2.9.0/lib/python3.9/site-packages (from tensorflow==2.9.0) (2.9.0)\n",
      "Requirement already satisfied: grpcio<2.0,>=1.24.3 in /global/common/software/nersc/pm-2022q2/sw/tensorflow/2.9.0/lib/python3.9/site-packages (from tensorflow==2.9.0) (1.43.0)\n",
      "Requirement already satisfied: google-pasta>=0.1.1 in /global/common/software/nersc/pm-2022q2/sw/tensorflow/2.9.0/lib/python3.9/site-packages (from tensorflow==2.9.0) (0.2.0)\n",
      "Requirement already satisfied: six>=1.12.0 in /global/common/software/nersc/pm-2022q2/sw/tensorflow/2.9.0/lib/python3.9/site-packages (from tensorflow==2.9.0) (1.16.0)\n",
      "Requirement already satisfied: typing-extensions>=3.6.6 in /global/common/software/nersc/pm-2022q2/sw/tensorflow/2.9.0/lib/python3.9/site-packages (from tensorflow==2.9.0) (4.2.0)\n",
      "Requirement already satisfied: keras-preprocessing>=1.1.1 in /global/common/software/nersc/pm-2022q2/sw/tensorflow/2.9.0/lib/python3.9/site-packages (from tensorflow==2.9.0) (1.1.2)\n",
      "Requirement already satisfied: tensorflow-io-gcs-filesystem>=0.23.1 in /global/common/software/nersc/pm-2022q2/sw/tensorflow/2.9.0/lib/python3.9/site-packages (from tensorflow==2.9.0) (0.26.0)\n",
      "Requirement already satisfied: tensorboard<2.10,>=2.9 in /global/common/software/nersc/pm-2022q2/sw/tensorflow/2.9.0/lib/python3.9/site-packages (from tensorflow==2.9.0) (2.9.1)\n",
      "Requirement already satisfied: flatbuffers<2,>=1.12 in /global/common/software/nersc/pm-2022q2/sw/tensorflow/2.9.0/lib/python3.9/site-packages (from tensorflow==2.9.0) (1.12)\n",
      "Requirement already satisfied: wheel<1.0,>=0.23.0 in /global/common/software/nersc/pm-2022q2/sw/tensorflow/2.9.0/lib/python3.9/site-packages (from astunparse>=1.6.0->tensorflow==2.9.0) (0.37.1)\n",
      "Requirement already satisfied: requests<3,>=2.21.0 in /global/common/software/nersc/pm-2022q2/sw/tensorflow/2.9.0/lib/python3.9/site-packages (from tensorboard<2.10,>=2.9->tensorflow==2.9.0) (2.27.1)\n",
      "Requirement already satisfied: tensorboard-plugin-wit>=1.6.0 in /global/common/software/nersc/pm-2022q2/sw/tensorflow/2.9.0/lib/python3.9/site-packages (from tensorboard<2.10,>=2.9->tensorflow==2.9.0) (1.8.1)\n",
      "Requirement already satisfied: google-auth<3,>=1.6.3 in /global/common/software/nersc/pm-2022q2/sw/tensorflow/2.9.0/lib/python3.9/site-packages (from tensorboard<2.10,>=2.9->tensorflow==2.9.0) (2.7.0)\n",
      "Requirement already satisfied: google-auth-oauthlib<0.5,>=0.4.1 in /global/common/software/nersc/pm-2022q2/sw/tensorflow/2.9.0/lib/python3.9/site-packages (from tensorboard<2.10,>=2.9->tensorflow==2.9.0) (0.4.6)\n",
      "Requirement already satisfied: markdown>=2.6.8 in /global/common/software/nersc/pm-2022q2/sw/tensorflow/2.9.0/lib/python3.9/site-packages (from tensorboard<2.10,>=2.9->tensorflow==2.9.0) (3.3.7)\n",
      "Requirement already satisfied: tensorboard-data-server<0.7.0,>=0.6.0 in /global/common/software/nersc/pm-2022q2/sw/tensorflow/2.9.0/lib/python3.9/site-packages (from tensorboard<2.10,>=2.9->tensorflow==2.9.0) (0.6.1)\n",
      "Requirement already satisfied: werkzeug>=1.0.1 in /global/common/software/nersc/pm-2022q2/sw/tensorflow/2.9.0/lib/python3.9/site-packages (from tensorboard<2.10,>=2.9->tensorflow==2.9.0) (2.1.2)\n",
      "Requirement already satisfied: cachetools<6.0,>=2.0.0 in /global/common/software/nersc/pm-2022q2/sw/tensorflow/2.9.0/lib/python3.9/site-packages (from google-auth<3,>=1.6.3->tensorboard<2.10,>=2.9->tensorflow==2.9.0) (5.2.0)\n",
      "Requirement already satisfied: rsa<5,>=3.1.4 in /global/common/software/nersc/pm-2022q2/sw/tensorflow/2.9.0/lib/python3.9/site-packages (from google-auth<3,>=1.6.3->tensorboard<2.10,>=2.9->tensorflow==2.9.0) (4.8)\n",
      "Requirement already satisfied: pyasn1-modules>=0.2.1 in /global/common/software/nersc/pm-2022q2/sw/tensorflow/2.9.0/lib/python3.9/site-packages (from google-auth<3,>=1.6.3->tensorboard<2.10,>=2.9->tensorflow==2.9.0) (0.2.8)\n",
      "Requirement already satisfied: requests-oauthlib>=0.7.0 in /global/common/software/nersc/pm-2022q2/sw/tensorflow/2.9.0/lib/python3.9/site-packages (from google-auth-oauthlib<0.5,>=0.4.1->tensorboard<2.10,>=2.9->tensorflow==2.9.0) (1.3.1)\n",
      "Requirement already satisfied: importlib-metadata>=4.4 in /global/common/software/nersc/pm-2022q2/sw/tensorflow/2.9.0/lib/python3.9/site-packages (from markdown>=2.6.8->tensorboard<2.10,>=2.9->tensorflow==2.9.0) (4.11.4)\n",
      "Requirement already satisfied: zipp>=0.5 in /global/common/software/nersc/pm-2022q2/sw/tensorflow/2.9.0/lib/python3.9/site-packages (from importlib-metadata>=4.4->markdown>=2.6.8->tensorboard<2.10,>=2.9->tensorflow==2.9.0) (3.8.0)\n",
      "Requirement already satisfied: pyasn1<0.5.0,>=0.4.6 in /global/common/software/nersc/pm-2022q2/sw/tensorflow/2.9.0/lib/python3.9/site-packages (from pyasn1-modules>=0.2.1->google-auth<3,>=1.6.3->tensorboard<2.10,>=2.9->tensorflow==2.9.0) (0.4.8)\n",
      "Requirement already satisfied: urllib3<1.27,>=1.21.1 in /global/common/software/nersc/pm-2022q2/sw/tensorflow/2.9.0/lib/python3.9/site-packages (from requests<3,>=2.21.0->tensorboard<2.10,>=2.9->tensorflow==2.9.0) (1.26.9)\n",
      "Requirement already satisfied: idna<4,>=2.5 in /global/common/software/nersc/pm-2022q2/sw/tensorflow/2.9.0/lib/python3.9/site-packages (from requests<3,>=2.21.0->tensorboard<2.10,>=2.9->tensorflow==2.9.0) (3.3)\n",
      "Requirement already satisfied: charset-normalizer~=2.0.0 in /global/common/software/nersc/pm-2022q2/sw/tensorflow/2.9.0/lib/python3.9/site-packages (from requests<3,>=2.21.0->tensorboard<2.10,>=2.9->tensorflow==2.9.0) (2.0.12)\n",
      "Requirement already satisfied: certifi>=2017.4.17 in /global/common/software/nersc/pm-2022q2/sw/tensorflow/2.9.0/lib/python3.9/site-packages (from requests<3,>=2.21.0->tensorboard<2.10,>=2.9->tensorflow==2.9.0) (2022.5.18.1)\n",
      "Requirement already satisfied: oauthlib>=3.0.0 in /global/common/software/nersc/pm-2022q2/sw/tensorflow/2.9.0/lib/python3.9/site-packages (from requests-oauthlib>=0.7.0->google-auth-oauthlib<0.5,>=0.4.1->tensorboard<2.10,>=2.9->tensorflow==2.9.0) (3.2.0)\n",
      "Requirement already satisfied: pyparsing!=3.0.5,>=2.0.2 in /global/common/software/nersc/pm-2022q2/sw/tensorflow/2.9.0/lib/python3.9/site-packages (from packaging->tensorflow==2.9.0) (3.0.9)\n",
      "Note: you may need to restart the kernel to use updated packages.\n"
     ]
    }
   ],
   "source": [
    "pip install tensorflow==2.9.0"
   ]
  },
  {
   "cell_type": "code",
   "execution_count": 3,
   "id": "e60084de-8f07-4c6e-beb2-0ae555b769d2",
   "metadata": {},
   "outputs": [],
   "source": [
    "import tensorflow as tf\n",
    "\n",
    "from tensorflow.keras.models import Model, Sequential\n",
    "from tensorflow.keras.layers import Input, Dense, Concatenate, Dropout, Activation, ReLU, Conv2D, Add, GlobalMaxPool2D, GlobalAveragePooling2D, MaxPool2D, Flatten, Softmax, Cropping2D, Lambda, BatchNormalization as BatchNorm, Reshape, LeakyReLU, Conv2DTranspose, PReLU, RandomZoom\n",
    "from tensorflow.keras.callbacks import CSVLogger, ModelCheckpoint, ReduceLROnPlateau, LearningRateScheduler\n",
    "\n",
    "import numpy as np\n",
    "from itertools import islice\n",
    "from matplotlib import pyplot as plt\n",
    "import multiprocessing as mp\n",
    "import pandas as pd\n",
    "import os\n",
    "import datetime\n",
    "import sklearn.model_selection\n",
    "\n",
    "import tensorflow_addons as tfa"
   ]
  },
  {
   "cell_type": "code",
   "execution_count": 4,
   "id": "b07ac360-2a41-4c39-b311-09ed8f91db49",
   "metadata": {},
   "outputs": [
    {
     "name": "stdout",
     "output_type": "stream",
     "text": [
      "Tue Oct  4 13:31:10 2022       \n",
      "+-----------------------------------------------------------------------------+\n",
      "| NVIDIA-SMI 515.48.07    Driver Version: 515.48.07    CUDA Version: 11.7     |\n",
      "|-------------------------------+----------------------+----------------------+\n",
      "| GPU  Name        Persistence-M| Bus-Id        Disp.A | Volatile Uncorr. ECC |\n",
      "| Fan  Temp  Perf  Pwr:Usage/Cap|         Memory-Usage | GPU-Util  Compute M. |\n",
      "|                               |                      |               MIG M. |\n",
      "|===============================+======================+======================|\n",
      "|   0  NVIDIA A100-PCI...  On   | 00000000:C3:00.0 Off |                    0 |\n",
      "| N/A   51C    P0    83W / 250W |  26993MiB / 40960MiB |    100%      Default |\n",
      "|                               |                      |             Disabled |\n",
      "+-------------------------------+----------------------+----------------------+\n",
      "                                                                               \n",
      "+-----------------------------------------------------------------------------+\n",
      "| Processes:                                                                  |\n",
      "|  GPU   GI   CI        PID   Type   Process name                  GPU Memory |\n",
      "|        ID   ID                                                   Usage      |\n",
      "|=============================================================================|\n",
      "|    0   N/A  N/A    149288      C   ...da/envs/rapids/bin/python    26991MiB |\n",
      "+-----------------------------------------------------------------------------+\n"
     ]
    }
   ],
   "source": [
    "!nvidia-smi"
   ]
  },
  {
   "cell_type": "code",
   "execution_count": 5,
   "id": "e80e10a6-c622-49ff-a26b-00835f3e69b1",
   "metadata": {},
   "outputs": [],
   "source": [
    "def res_unit1(inp, a, b, block_id, layer_id, activation=\"elu\",):\n",
    "    Nonlinearity = lambda name: Activation(activation=activation, name=name)\n",
    "\n",
    "    bn1 = BatchNorm(name=f\"{block_id}/{layer_id}/bn1\")(inp)\n",
    "    elu1 = Nonlinearity(name=f\"{block_id}/{layer_id}/activation1\")(bn1)\n",
    "    conv1 = Conv2D(filters=a, kernel_size=(1,1), name=f\"{block_id}/{layer_id}/conv1\")(elu1)\n",
    "\n",
    "    bn2 = BatchNorm(name=f\"{block_id}/{layer_id}/bn2\")(conv1)\n",
    "    elu2 = Nonlinearity(name=f\"{block_id}/{layer_id}/activation2\")(bn2)\n",
    "    conv2 = Conv2D(filters=a, kernel_size=(3,3), padding=\"same\", name=f\"{block_id}/{layer_id}/conv2\")(elu2)\n",
    "\n",
    "    bn3 = BatchNorm(name=f\"{block_id}/{layer_id}/bn3\")(conv2)\n",
    "    elu3 = Nonlinearity(name=f\"{block_id}/{layer_id}/activation3\")(bn3)\n",
    "    conv3 = Conv2D(filters=b, kernel_size=(1,1), name=f\"{block_id}/{layer_id}/conv3\")(elu3)\n",
    "\n",
    "    return Add(name=f\"{block_id}/{layer_id}/add\")([inp, conv3])\n",
    "\n",
    "def res_unit2(inp, a, b, block_id, layer_id, activation=\"elu\"):\n",
    "    Nonlinearity = lambda name: Activation(activation=activation, name=name)\n",
    "\n",
    "    bn = BatchNorm(name=f\"{block_id}/{layer_id}/bn0\")(inp)\n",
    "    elu = Nonlinearity(name=f\"{block_id}/{layer_id}/activation0\")(bn)\n",
    "\n",
    "    shortcut = Conv2D(filters=b, kernel_size=(1,1), strides=2, name=f\"{block_id}/{layer_id}/shortcut-conv\")(elu)\n",
    "\n",
    "    conv0 = Conv2D(filters=a, kernel_size=(1,1), strides=2, name=f\"{block_id}/{layer_id}/conv0\")(elu)\n",
    "\n",
    "    bn1 = BatchNorm(name=f\"{block_id}/{layer_id}/bn1\")(conv0)\n",
    "    elu1 = Nonlinearity(name=f\"{block_id}/{layer_id}/activation1\")(bn1)\n",
    "    conv1 = Conv2D(filters=a, kernel_size=(3,3), padding=\"same\", name=f\"{block_id}/{layer_id}/conv1\")(elu1)\n",
    "\n",
    "    bn2 = BatchNorm(name=f\"{block_id}/{layer_id}/bn2\")(conv1)\n",
    "    elu2 = Nonlinearity(name=f\"{block_id}/{layer_id}/activation2\")(bn2)\n",
    "    conv2 = Conv2D(filters=b, kernel_size=(1,1), name=f\"{block_id}/{layer_id}/conv2\")(elu2)\n",
    "\n",
    "    return Add(name=f\"{block_id}/{layer_id}/add\")([shortcut, conv2])\n",
    "\n",
    "def create_model(shape=(101,101,3), activation=\"elu\"):\n",
    "    img = Input(shape=shape, name=\"img\")\n",
    "    zoom = RandomZoom((-0.2, .2), (-0.2, .2))(img)\n",
    "    conv1 = Conv2D(filters=32, kernel_size=(7,7), name=\"0/0/conv\")(zoom)\n",
    "    elu1 = Activation(activation=activation, name=f\"0/0/activation\")(conv1)\n",
    "    bn1 = BatchNorm(name=\"0/0/bn\")(elu1)\n",
    "\n",
    "    layer1_1 = res_unit1(bn1, 16, 32, 1, 1, activation=activation)\n",
    "    layer1_2 = res_unit1(layer1_1, 16, 32, 1, 2, activation=activation)\n",
    "    layer1_3 = res_unit1(layer1_2, 16, 32, 1, 3, activation=activation)\n",
    "    shield1 = Conv2D(filters=32, kernel_size=(1,1), name=\"1/shield\")(layer1_3)\n",
    "\n",
    "    layer2_1 = res_unit2(shield1, 32, 64, 2, 1, activation=activation)\n",
    "    layer2_2 = res_unit1(layer2_1, 32, 64, 2, 2, activation=activation)\n",
    "    layer2_3 = res_unit1(layer2_2, 32, 64, 2, 3, activation=activation)\n",
    "    shield2 = Conv2D(filters=32, kernel_size=(1,1), name=\"2/shield\")(layer2_3)\n",
    "\n",
    "    layer3_1 = res_unit2(shield2, 32, 64, 3, 1, activation=activation)\n",
    "    layer3_2 = res_unit1(layer3_1, 32, 64, 3, 2, activation=activation)\n",
    "    layer3_3 = res_unit1(layer3_2, 32, 64, 3, 3, activation=activation)\n",
    "    shield3 = Conv2D(filters=32, kernel_size=(1,1), name=\"3/shield\")(layer3_3)\n",
    "\n",
    "    layer4_1 = res_unit2(shield3, 32, 64, 4, 1, activation=activation)\n",
    "    layer4_2 = res_unit1(layer4_1, 32, 64, 4, 2, activation=activation)\n",
    "    layer4_3 = res_unit1(layer4_2, 32, 64, 4, 3, activation=activation)\n",
    "    shield4 = Conv2D(filters=32, kernel_size=(1,1), name=\"4/shield\")(layer4_3)\n",
    "\n",
    "    layer5_1 = res_unit2(shield4, 32, 64, 5, 1, activation=activation)\n",
    "    layer5_2 = res_unit1(layer5_1, 32, 64, 5, 2, activation=activation)\n",
    "    layer5_3 = res_unit1(layer5_2, 32, 64, 5, 3, activation=activation)\n",
    "\n",
    "    average = GlobalAveragePooling2D()(layer5_3)\n",
    "    flatten = Flatten()(average)\n",
    "    out = Dense(1, activation=\"sigmoid\")(flatten)\n",
    "    return Model(inputs=[img], outputs=[out])"
   ]
  },
  {
   "cell_type": "code",
   "execution_count": 6,
   "id": "6170d47e-81e1-4837-9191-8493f56ce40f",
   "metadata": {},
   "outputs": [],
   "source": [
    "def get_compiled_model(lr0 = 5e-4):\n",
    "    metrics = tf.keras.metrics\n",
    "    model = create_model(activation = \"relu\")\n",
    "    m = [metrics.AUC(num_thresholds=500), metrics.Precision(), metrics.Recall()]\n",
    "    \n",
    "    model.compile(\n",
    "        loss='binary_crossentropy',\n",
    "        optimizer=tf.keras.optimizers.Adam(learning_rate=lr0),\n",
    "        metrics = m\n",
    "    )\n",
    "    return model"
   ]
  },
  {
   "cell_type": "code",
   "execution_count": 7,
   "id": "29a1296c-9ee1-4d5c-b7c8-9958459f3982",
   "metadata": {},
   "outputs": [],
   "source": [
    "xtrain = np.load(\"/global/cfs/projectdirs/cosmo/work/users/xhuang/dataset/TS_33_set/TS33/data/train_x.npy\")\n",
    "ytrain = np.load(\"/global/cfs/projectdirs/cosmo/work/users/xhuang/dataset/TS_33_set/TS33/data/train_y.npy\").reshape(-1, 1)\n",
    "xval = np.load(\"/global/cfs/projectdirs/cosmo/work/users/xhuang/dataset/TS_33_set/TS33/data/val_x.npy\")\n",
    "yval = np.load(\"/global/cfs/projectdirs/cosmo/work/users/xhuang/dataset/TS_33_set/TS33/data/val_y.npy\").reshape(-1, 1)"
   ]
  },
  {
   "cell_type": "code",
   "execution_count": 8,
   "id": "9c02372d-7cbb-4261-86c4-b758fa82ec74",
   "metadata": {},
   "outputs": [
    {
     "data": {
      "text/plain": [
       "((46582, 101, 101, 3), (46582, 1), (19963, 101, 101, 3), (19963, 1))"
      ]
     },
     "execution_count": 8,
     "metadata": {},
     "output_type": "execute_result"
    }
   ],
   "source": [
    "xtrain.shape,ytrain.shape,xval.shape,yval.shape"
   ]
  },
  {
   "cell_type": "code",
   "execution_count": 9,
   "id": "1fe2b15f-e536-48ff-abe8-18fe21598b2b",
   "metadata": {},
   "outputs": [
    {
     "name": "stdout",
     "output_type": "stream",
     "text": [
      "INFO:tensorflow:Using MirroredStrategy with devices ('/job:localhost/replica:0/task:0/device:GPU:0',)\n",
      "INFO:tensorflow:Reduce to /job:localhost/replica:0/task:0/device:CPU:0 then broadcast to ('/job:localhost/replica:0/task:0/device:CPU:0',).\n",
      "INFO:tensorflow:Reduce to /job:localhost/replica:0/task:0/device:CPU:0 then broadcast to ('/job:localhost/replica:0/task:0/device:CPU:0',).\n",
      "INFO:tensorflow:Reduce to /job:localhost/replica:0/task:0/device:CPU:0 then broadcast to ('/job:localhost/replica:0/task:0/device:CPU:0',).\n",
      "INFO:tensorflow:Reduce to /job:localhost/replica:0/task:0/device:CPU:0 then broadcast to ('/job:localhost/replica:0/task:0/device:CPU:0',).\n",
      "INFO:tensorflow:Reduce to /job:localhost/replica:0/task:0/device:CPU:0 then broadcast to ('/job:localhost/replica:0/task:0/device:CPU:0',).\n"
     ]
    },
    {
     "name": "stderr",
     "output_type": "stream",
     "text": [
      "2022-10-04 13:31:13.851161: I tensorflow/core/platform/cpu_feature_guard.cc:193] This TensorFlow binary is optimized with oneAPI Deep Neural Network Library (oneDNN) to use the following CPU instructions in performance-critical operations:  AVX2 FMA\n",
      "To enable them in other operations, rebuild TensorFlow with the appropriate compiler flags.\n",
      "2022-10-04 13:31:14.362708: I tensorflow/core/common_runtime/gpu/gpu_device.cc:1532] Created device /job:localhost/replica:0/task:0/device:GPU:0 with 11273 MB memory:  -> device: 0, name: NVIDIA A100-PCIE-40GB, pci bus id: 0000:c3:00.0, compute capability: 8.0\n"
     ]
    },
    {
     "name": "stdout",
     "output_type": "stream",
     "text": [
      "INFO:tensorflow:Reduce to /job:localhost/replica:0/task:0/device:CPU:0 then broadcast to ('/job:localhost/replica:0/task:0/device:CPU:0',).\n",
      "INFO:tensorflow:Reduce to /job:localhost/replica:0/task:0/device:CPU:0 then broadcast to ('/job:localhost/replica:0/task:0/device:CPU:0',).\n",
      "INFO:tensorflow:Reduce to /job:localhost/replica:0/task:0/device:CPU:0 then broadcast to ('/job:localhost/replica:0/task:0/device:CPU:0',).\n",
      "INFO:tensorflow:Reduce to /job:localhost/replica:0/task:0/device:CPU:0 then broadcast to ('/job:localhost/replica:0/task:0/device:CPU:0',).\n",
      "INFO:tensorflow:Reduce to /job:localhost/replica:0/task:0/device:CPU:0 then broadcast to ('/job:localhost/replica:0/task:0/device:CPU:0',).\n"
     ]
    }
   ],
   "source": [
    "strategy = tf.distribute.MirroredStrategy(cross_device_ops = tf.distribute.NcclAllReduce())\n",
    "lr0 = 5e-4\n",
    "with strategy.scope():\n",
    "    model = get_compiled_model(lr0 = lr0)"
   ]
  },
  {
   "cell_type": "code",
   "execution_count": 10,
   "id": "752fd4e4",
   "metadata": {},
   "outputs": [
    {
     "name": "stdout",
     "output_type": "stream",
     "text": [
      "Number of devices: 1\n"
     ]
    }
   ],
   "source": [
    "print(\"Number of devices: {}\".format(strategy.num_replicas_in_sync))"
   ]
  },
  {
   "cell_type": "code",
   "execution_count": 11,
   "id": "1ff62536-78f8-49f2-bd64-e643121daec0",
   "metadata": {},
   "outputs": [],
   "source": [
    "batch_size_per_replica = 128\n",
    "bs = batch_size_per_replica * strategy.num_replicas_in_sync"
   ]
  },
  {
   "cell_type": "code",
   "execution_count": 12,
   "id": "a6c6a034-c7c0-4b4a-8462-166d4d1f3767",
   "metadata": {},
   "outputs": [],
   "source": [
    "def preprocess(x, y):\n",
    "    x = tf.image.random_flip_left_right(tf.image.random_flip_up_down(x))\n",
    "    #x = tf.keras.preprocessing.image.random_zoom(x, zoom_range = (0.2, 0.2), fill_mode = 'reflect')\n",
    "    \n",
    "    rg = tf.random.uniform(shape=[],minval=0, maxval=2 * np.pi, dtype=tf.float32)\n",
    "    x = tfa.image.rotate(x, angles=rg, fill_mode = 'reflect')\n",
    "    return x, y\n",
    "\n",
    "# Disable AutoShard.\n",
    "options = tf.data.Options()\n",
    "options.experimental_distribute.auto_shard_policy = tf.data.experimental.AutoShardPolicy.OFF\n",
    "\n",
    "\n",
    "train = (tf.data.Dataset.from_tensor_slices((xtrain, ytrain))\n",
    "        .shuffle(len(ytrain), reshuffle_each_iteration=True, seed=42) \n",
    "        .repeat()\n",
    "        .batch(bs)\n",
    "        .map(preprocess, num_parallel_calls=tf.data.experimental.AUTOTUNE)\n",
    "        .prefetch(tf.data.experimental.AUTOTUNE)).with_options(options)\n",
    "\n",
    "validate = (tf.data.Dataset.from_tensor_slices((xval, yval))\n",
    "        .shuffle(len(yval))\n",
    "        .repeat()\n",
    "        .batch(bs)\n",
    "        .prefetch(tf.data.experimental.AUTOTUNE)).with_options(options)"
   ]
  },
  {
   "cell_type": "code",
   "execution_count": 13,
   "id": "e198388a-b9d3-4a87-aa32-6d8ea5477b06",
   "metadata": {},
   "outputs": [],
   "source": [
    "def lr_f(epoch):\n",
    "    if epoch < 80:\n",
    "        return lr0\n",
    "    else:\n",
    "        return lr0/5\n",
    "\n",
    "checkpoint = ModelCheckpoint('G:/Data/Model 1.h5', monitor='val_auc', save_best_only=True, mode='max', verbose=1)\n",
    "csv_logger = CSVLogger('G:/Data/Model 1.csv', separator=',', append=True)\n",
    "lr_schedule = LearningRateScheduler(lr_f, verbose=1)\n",
    "cbs = [checkpoint, csv_logger, lr_schedule]"
   ]
  },
  {
   "cell_type": "code",
   "execution_count": 14,
   "id": "39ef4f31-30ba-4413-b47b-8acb05eab5bb",
   "metadata": {},
   "outputs": [],
   "source": [
    "num_epochs = 5"
   ]
  },
  {
   "cell_type": "code",
   "execution_count": 15,
   "id": "a5c3940b-b182-4e1f-b03f-aee4c188bc1a",
   "metadata": {},
   "outputs": [
    {
     "name": "stdout",
     "output_type": "stream",
     "text": [
      "\n",
      "Epoch 1: LearningRateScheduler setting learning rate to 0.0005.\n",
      "Epoch 1/5\n"
     ]
    },
    {
     "name": "stderr",
     "output_type": "stream",
     "text": [
      "2022-10-04 13:31:38.397653: E tensorflow/stream_executor/cuda/cuda_dnn.cc:389] Could not create cudnn handle: CUDNN_STATUS_ALLOC_FAILED\n",
      "2022-10-04 13:31:38.398178: W tensorflow/core/framework/op_kernel.cc:1745] OP_REQUIRES failed at conv_ops_fused_impl.h:561 : UNIMPLEMENTED: DNN library is not found.\n"
     ]
    },
    {
     "ename": "UnimplementedError",
     "evalue": "Graph execution error:\n\nDetected at node 'model/0/0/activation/Relu' defined at (most recent call last):\n    File \"/global/common/software/nersc/pm-2022q2/sw/tensorflow/2.9.0/lib/python3.9/threading.py\", line 930, in _bootstrap\n      self._bootstrap_inner()\n    File \"/global/common/software/nersc/pm-2022q2/sw/tensorflow/2.9.0/lib/python3.9/threading.py\", line 973, in _bootstrap_inner\n      self.run()\n    File \"/global/common/software/nersc/pm-2022q2/sw/tensorflow/2.9.0/lib/python3.9/site-packages/keras/engine/training.py\", line 1030, in run_step\n      outputs = model.train_step(data)\n    File \"/global/common/software/nersc/pm-2022q2/sw/tensorflow/2.9.0/lib/python3.9/site-packages/keras/engine/training.py\", line 889, in train_step\n      y_pred = self(x, training=True)\n    File \"/global/common/software/nersc/pm-2022q2/sw/tensorflow/2.9.0/lib/python3.9/site-packages/keras/utils/traceback_utils.py\", line 64, in error_handler\n      return fn(*args, **kwargs)\n    File \"/global/common/software/nersc/pm-2022q2/sw/tensorflow/2.9.0/lib/python3.9/site-packages/keras/engine/training.py\", line 490, in __call__\n      return super().__call__(*args, **kwargs)\n    File \"/global/common/software/nersc/pm-2022q2/sw/tensorflow/2.9.0/lib/python3.9/site-packages/keras/utils/traceback_utils.py\", line 64, in error_handler\n      return fn(*args, **kwargs)\n    File \"/global/common/software/nersc/pm-2022q2/sw/tensorflow/2.9.0/lib/python3.9/site-packages/keras/engine/base_layer.py\", line 1014, in __call__\n      outputs = call_fn(inputs, *args, **kwargs)\n    File \"/global/common/software/nersc/pm-2022q2/sw/tensorflow/2.9.0/lib/python3.9/site-packages/keras/utils/traceback_utils.py\", line 92, in error_handler\n      return fn(*args, **kwargs)\n    File \"/global/common/software/nersc/pm-2022q2/sw/tensorflow/2.9.0/lib/python3.9/site-packages/keras/engine/functional.py\", line 458, in call\n      return self._run_internal_graph(\n    File \"/global/common/software/nersc/pm-2022q2/sw/tensorflow/2.9.0/lib/python3.9/site-packages/keras/engine/functional.py\", line 596, in _run_internal_graph\n      outputs = node.layer(*args, **kwargs)\n    File \"/global/common/software/nersc/pm-2022q2/sw/tensorflow/2.9.0/lib/python3.9/site-packages/keras/utils/traceback_utils.py\", line 64, in error_handler\n      return fn(*args, **kwargs)\n    File \"/global/common/software/nersc/pm-2022q2/sw/tensorflow/2.9.0/lib/python3.9/site-packages/keras/engine/base_layer.py\", line 1014, in __call__\n      outputs = call_fn(inputs, *args, **kwargs)\n    File \"/global/common/software/nersc/pm-2022q2/sw/tensorflow/2.9.0/lib/python3.9/site-packages/keras/utils/traceback_utils.py\", line 92, in error_handler\n      return fn(*args, **kwargs)\n    File \"/global/common/software/nersc/pm-2022q2/sw/tensorflow/2.9.0/lib/python3.9/site-packages/keras/layers/core/activation.py\", line 57, in call\n      return self.activation(inputs)\n    File \"/global/common/software/nersc/pm-2022q2/sw/tensorflow/2.9.0/lib/python3.9/site-packages/keras/activations.py\", line 311, in relu\n      return backend.relu(x, alpha=alpha, max_value=max_value, threshold=threshold)\n    File \"/global/common/software/nersc/pm-2022q2/sw/tensorflow/2.9.0/lib/python3.9/site-packages/keras/backend.py\", line 4992, in relu\n      x = tf.nn.relu(x)\nNode: 'model/0/0/activation/Relu'\nDetected at node 'model/0/0/activation/Relu' defined at (most recent call last):\n    File \"/global/common/software/nersc/pm-2022q2/sw/tensorflow/2.9.0/lib/python3.9/threading.py\", line 930, in _bootstrap\n      self._bootstrap_inner()\n    File \"/global/common/software/nersc/pm-2022q2/sw/tensorflow/2.9.0/lib/python3.9/threading.py\", line 973, in _bootstrap_inner\n      self.run()\n    File \"/global/common/software/nersc/pm-2022q2/sw/tensorflow/2.9.0/lib/python3.9/site-packages/keras/engine/training.py\", line 1030, in run_step\n      outputs = model.train_step(data)\n    File \"/global/common/software/nersc/pm-2022q2/sw/tensorflow/2.9.0/lib/python3.9/site-packages/keras/engine/training.py\", line 889, in train_step\n      y_pred = self(x, training=True)\n    File \"/global/common/software/nersc/pm-2022q2/sw/tensorflow/2.9.0/lib/python3.9/site-packages/keras/utils/traceback_utils.py\", line 64, in error_handler\n      return fn(*args, **kwargs)\n    File \"/global/common/software/nersc/pm-2022q2/sw/tensorflow/2.9.0/lib/python3.9/site-packages/keras/engine/training.py\", line 490, in __call__\n      return super().__call__(*args, **kwargs)\n    File \"/global/common/software/nersc/pm-2022q2/sw/tensorflow/2.9.0/lib/python3.9/site-packages/keras/utils/traceback_utils.py\", line 64, in error_handler\n      return fn(*args, **kwargs)\n    File \"/global/common/software/nersc/pm-2022q2/sw/tensorflow/2.9.0/lib/python3.9/site-packages/keras/engine/base_layer.py\", line 1014, in __call__\n      outputs = call_fn(inputs, *args, **kwargs)\n    File \"/global/common/software/nersc/pm-2022q2/sw/tensorflow/2.9.0/lib/python3.9/site-packages/keras/utils/traceback_utils.py\", line 92, in error_handler\n      return fn(*args, **kwargs)\n    File \"/global/common/software/nersc/pm-2022q2/sw/tensorflow/2.9.0/lib/python3.9/site-packages/keras/engine/functional.py\", line 458, in call\n      return self._run_internal_graph(\n    File \"/global/common/software/nersc/pm-2022q2/sw/tensorflow/2.9.0/lib/python3.9/site-packages/keras/engine/functional.py\", line 596, in _run_internal_graph\n      outputs = node.layer(*args, **kwargs)\n    File \"/global/common/software/nersc/pm-2022q2/sw/tensorflow/2.9.0/lib/python3.9/site-packages/keras/utils/traceback_utils.py\", line 64, in error_handler\n      return fn(*args, **kwargs)\n    File \"/global/common/software/nersc/pm-2022q2/sw/tensorflow/2.9.0/lib/python3.9/site-packages/keras/engine/base_layer.py\", line 1014, in __call__\n      outputs = call_fn(inputs, *args, **kwargs)\n    File \"/global/common/software/nersc/pm-2022q2/sw/tensorflow/2.9.0/lib/python3.9/site-packages/keras/utils/traceback_utils.py\", line 92, in error_handler\n      return fn(*args, **kwargs)\n    File \"/global/common/software/nersc/pm-2022q2/sw/tensorflow/2.9.0/lib/python3.9/site-packages/keras/layers/core/activation.py\", line 57, in call\n      return self.activation(inputs)\n    File \"/global/common/software/nersc/pm-2022q2/sw/tensorflow/2.9.0/lib/python3.9/site-packages/keras/activations.py\", line 311, in relu\n      return backend.relu(x, alpha=alpha, max_value=max_value, threshold=threshold)\n    File \"/global/common/software/nersc/pm-2022q2/sw/tensorflow/2.9.0/lib/python3.9/site-packages/keras/backend.py\", line 4992, in relu\n      x = tf.nn.relu(x)\nNode: 'model/0/0/activation/Relu'\n2 root error(s) found.\n  (0) UNIMPLEMENTED:  DNN library is not found.\n\t [[{{node model/0/0/activation/Relu}}]]\n\t [[Add_3/ReadVariableOp_1/_168]]\n  (1) UNIMPLEMENTED:  DNN library is not found.\n\t [[{{node model/0/0/activation/Relu}}]]\n0 successful operations.\n0 derived errors ignored. [Op:__inference_train_function_17259]",
     "output_type": "error",
     "traceback": [
      "\u001b[0;31m---------------------------------------------------------------------------\u001b[0m",
      "\u001b[0;31mUnimplementedError\u001b[0m                        Traceback (most recent call last)",
      "Input \u001b[0;32mIn [15]\u001b[0m, in \u001b[0;36m<cell line: 5>\u001b[0;34m()\u001b[0m\n\u001b[1;32m      1\u001b[0m \u001b[38;5;28;01mimport\u001b[39;00m \u001b[38;5;21;01mtime\u001b[39;00m\n\u001b[1;32m      3\u001b[0m time_start \u001b[38;5;241m=\u001b[39m time\u001b[38;5;241m.\u001b[39mperf_counter()\n\u001b[0;32m----> 5\u001b[0m \u001b[43mmodel\u001b[49m\u001b[38;5;241;43m.\u001b[39;49m\u001b[43mfit\u001b[49m\u001b[43m(\u001b[49m\u001b[43mtrain\u001b[49m\u001b[43m,\u001b[49m\u001b[43m \u001b[49m\u001b[43mvalidation_data\u001b[49m\u001b[38;5;241;43m=\u001b[39;49m\u001b[43mvalidate\u001b[49m\u001b[43m,\u001b[49m\u001b[43m \u001b[49m\u001b[43mepochs\u001b[49m\u001b[38;5;241;43m=\u001b[39;49m\u001b[43mnum_epochs\u001b[49m\u001b[43m,\u001b[49m\u001b[43m \u001b[49m\u001b[43msteps_per_epoch\u001b[49m\u001b[38;5;241;43m=\u001b[39;49m\u001b[38;5;28;43mlen\u001b[39;49m\u001b[43m(\u001b[49m\u001b[43mytrain\u001b[49m\u001b[43m)\u001b[49m\u001b[38;5;241;43m/\u001b[39;49m\u001b[38;5;241;43m/\u001b[39;49m\u001b[43mbs\u001b[49m\u001b[43m,\u001b[49m\u001b[43m \u001b[49m\u001b[43mcallbacks\u001b[49m\u001b[38;5;241;43m=\u001b[39;49m\u001b[43mcbs\u001b[49m\u001b[43m,\u001b[49m\u001b[43m \u001b[49m\u001b[43mverbose\u001b[49m\u001b[38;5;241;43m=\u001b[39;49m\u001b[38;5;241;43m1\u001b[39;49m\u001b[43m,\u001b[49m\u001b[43m \u001b[49m\u001b[43mbatch_size\u001b[49m\u001b[38;5;241;43m=\u001b[39;49m\u001b[43mbs\u001b[49m\u001b[43m,\u001b[49m\u001b[43m \u001b[49m\u001b[43mvalidation_steps\u001b[49m\u001b[38;5;241;43m=\u001b[39;49m\u001b[38;5;28;43mlen\u001b[39;49m\u001b[43m(\u001b[49m\u001b[43myval\u001b[49m\u001b[43m)\u001b[49m\u001b[38;5;241;43m/\u001b[39;49m\u001b[38;5;241;43m/\u001b[39;49m\u001b[43mbs\u001b[49m\u001b[43m)\u001b[49m\n\u001b[1;32m      7\u001b[0m time_end \u001b[38;5;241m=\u001b[39m time\u001b[38;5;241m.\u001b[39mperf_counter()\n\u001b[1;32m      9\u001b[0m \u001b[38;5;28mprint\u001b[39m(time_end \u001b[38;5;241m-\u001b[39m time_start)\n",
      "File \u001b[0;32m/global/common/software/nersc/pm-2022q2/sw/tensorflow/2.9.0/lib/python3.9/site-packages/keras/utils/traceback_utils.py:67\u001b[0m, in \u001b[0;36mfilter_traceback.<locals>.error_handler\u001b[0;34m(*args, **kwargs)\u001b[0m\n\u001b[1;32m     65\u001b[0m \u001b[38;5;28;01mexcept\u001b[39;00m \u001b[38;5;167;01mException\u001b[39;00m \u001b[38;5;28;01mas\u001b[39;00m e:  \u001b[38;5;66;03m# pylint: disable=broad-except\u001b[39;00m\n\u001b[1;32m     66\u001b[0m   filtered_tb \u001b[38;5;241m=\u001b[39m _process_traceback_frames(e\u001b[38;5;241m.\u001b[39m__traceback__)\n\u001b[0;32m---> 67\u001b[0m   \u001b[38;5;28;01mraise\u001b[39;00m e\u001b[38;5;241m.\u001b[39mwith_traceback(filtered_tb) \u001b[38;5;28;01mfrom\u001b[39;00m \u001b[38;5;28mNone\u001b[39m\n\u001b[1;32m     68\u001b[0m \u001b[38;5;28;01mfinally\u001b[39;00m:\n\u001b[1;32m     69\u001b[0m   \u001b[38;5;28;01mdel\u001b[39;00m filtered_tb\n",
      "File \u001b[0;32m/global/common/software/nersc/pm-2022q2/sw/tensorflow/2.9.0/lib/python3.9/site-packages/tensorflow/python/eager/execute.py:54\u001b[0m, in \u001b[0;36mquick_execute\u001b[0;34m(op_name, num_outputs, inputs, attrs, ctx, name)\u001b[0m\n\u001b[1;32m     52\u001b[0m \u001b[38;5;28;01mtry\u001b[39;00m:\n\u001b[1;32m     53\u001b[0m   ctx\u001b[38;5;241m.\u001b[39mensure_initialized()\n\u001b[0;32m---> 54\u001b[0m   tensors \u001b[38;5;241m=\u001b[39m pywrap_tfe\u001b[38;5;241m.\u001b[39mTFE_Py_Execute(ctx\u001b[38;5;241m.\u001b[39m_handle, device_name, op_name,\n\u001b[1;32m     55\u001b[0m                                       inputs, attrs, num_outputs)\n\u001b[1;32m     56\u001b[0m \u001b[38;5;28;01mexcept\u001b[39;00m core\u001b[38;5;241m.\u001b[39m_NotOkStatusException \u001b[38;5;28;01mas\u001b[39;00m e:\n\u001b[1;32m     57\u001b[0m   \u001b[38;5;28;01mif\u001b[39;00m name \u001b[38;5;129;01mis\u001b[39;00m \u001b[38;5;129;01mnot\u001b[39;00m \u001b[38;5;28;01mNone\u001b[39;00m:\n",
      "\u001b[0;31mUnimplementedError\u001b[0m: Graph execution error:\n\nDetected at node 'model/0/0/activation/Relu' defined at (most recent call last):\n    File \"/global/common/software/nersc/pm-2022q2/sw/tensorflow/2.9.0/lib/python3.9/threading.py\", line 930, in _bootstrap\n      self._bootstrap_inner()\n    File \"/global/common/software/nersc/pm-2022q2/sw/tensorflow/2.9.0/lib/python3.9/threading.py\", line 973, in _bootstrap_inner\n      self.run()\n    File \"/global/common/software/nersc/pm-2022q2/sw/tensorflow/2.9.0/lib/python3.9/site-packages/keras/engine/training.py\", line 1030, in run_step\n      outputs = model.train_step(data)\n    File \"/global/common/software/nersc/pm-2022q2/sw/tensorflow/2.9.0/lib/python3.9/site-packages/keras/engine/training.py\", line 889, in train_step\n      y_pred = self(x, training=True)\n    File \"/global/common/software/nersc/pm-2022q2/sw/tensorflow/2.9.0/lib/python3.9/site-packages/keras/utils/traceback_utils.py\", line 64, in error_handler\n      return fn(*args, **kwargs)\n    File \"/global/common/software/nersc/pm-2022q2/sw/tensorflow/2.9.0/lib/python3.9/site-packages/keras/engine/training.py\", line 490, in __call__\n      return super().__call__(*args, **kwargs)\n    File \"/global/common/software/nersc/pm-2022q2/sw/tensorflow/2.9.0/lib/python3.9/site-packages/keras/utils/traceback_utils.py\", line 64, in error_handler\n      return fn(*args, **kwargs)\n    File \"/global/common/software/nersc/pm-2022q2/sw/tensorflow/2.9.0/lib/python3.9/site-packages/keras/engine/base_layer.py\", line 1014, in __call__\n      outputs = call_fn(inputs, *args, **kwargs)\n    File \"/global/common/software/nersc/pm-2022q2/sw/tensorflow/2.9.0/lib/python3.9/site-packages/keras/utils/traceback_utils.py\", line 92, in error_handler\n      return fn(*args, **kwargs)\n    File \"/global/common/software/nersc/pm-2022q2/sw/tensorflow/2.9.0/lib/python3.9/site-packages/keras/engine/functional.py\", line 458, in call\n      return self._run_internal_graph(\n    File \"/global/common/software/nersc/pm-2022q2/sw/tensorflow/2.9.0/lib/python3.9/site-packages/keras/engine/functional.py\", line 596, in _run_internal_graph\n      outputs = node.layer(*args, **kwargs)\n    File \"/global/common/software/nersc/pm-2022q2/sw/tensorflow/2.9.0/lib/python3.9/site-packages/keras/utils/traceback_utils.py\", line 64, in error_handler\n      return fn(*args, **kwargs)\n    File \"/global/common/software/nersc/pm-2022q2/sw/tensorflow/2.9.0/lib/python3.9/site-packages/keras/engine/base_layer.py\", line 1014, in __call__\n      outputs = call_fn(inputs, *args, **kwargs)\n    File \"/global/common/software/nersc/pm-2022q2/sw/tensorflow/2.9.0/lib/python3.9/site-packages/keras/utils/traceback_utils.py\", line 92, in error_handler\n      return fn(*args, **kwargs)\n    File \"/global/common/software/nersc/pm-2022q2/sw/tensorflow/2.9.0/lib/python3.9/site-packages/keras/layers/core/activation.py\", line 57, in call\n      return self.activation(inputs)\n    File \"/global/common/software/nersc/pm-2022q2/sw/tensorflow/2.9.0/lib/python3.9/site-packages/keras/activations.py\", line 311, in relu\n      return backend.relu(x, alpha=alpha, max_value=max_value, threshold=threshold)\n    File \"/global/common/software/nersc/pm-2022q2/sw/tensorflow/2.9.0/lib/python3.9/site-packages/keras/backend.py\", line 4992, in relu\n      x = tf.nn.relu(x)\nNode: 'model/0/0/activation/Relu'\nDetected at node 'model/0/0/activation/Relu' defined at (most recent call last):\n    File \"/global/common/software/nersc/pm-2022q2/sw/tensorflow/2.9.0/lib/python3.9/threading.py\", line 930, in _bootstrap\n      self._bootstrap_inner()\n    File \"/global/common/software/nersc/pm-2022q2/sw/tensorflow/2.9.0/lib/python3.9/threading.py\", line 973, in _bootstrap_inner\n      self.run()\n    File \"/global/common/software/nersc/pm-2022q2/sw/tensorflow/2.9.0/lib/python3.9/site-packages/keras/engine/training.py\", line 1030, in run_step\n      outputs = model.train_step(data)\n    File \"/global/common/software/nersc/pm-2022q2/sw/tensorflow/2.9.0/lib/python3.9/site-packages/keras/engine/training.py\", line 889, in train_step\n      y_pred = self(x, training=True)\n    File \"/global/common/software/nersc/pm-2022q2/sw/tensorflow/2.9.0/lib/python3.9/site-packages/keras/utils/traceback_utils.py\", line 64, in error_handler\n      return fn(*args, **kwargs)\n    File \"/global/common/software/nersc/pm-2022q2/sw/tensorflow/2.9.0/lib/python3.9/site-packages/keras/engine/training.py\", line 490, in __call__\n      return super().__call__(*args, **kwargs)\n    File \"/global/common/software/nersc/pm-2022q2/sw/tensorflow/2.9.0/lib/python3.9/site-packages/keras/utils/traceback_utils.py\", line 64, in error_handler\n      return fn(*args, **kwargs)\n    File \"/global/common/software/nersc/pm-2022q2/sw/tensorflow/2.9.0/lib/python3.9/site-packages/keras/engine/base_layer.py\", line 1014, in __call__\n      outputs = call_fn(inputs, *args, **kwargs)\n    File \"/global/common/software/nersc/pm-2022q2/sw/tensorflow/2.9.0/lib/python3.9/site-packages/keras/utils/traceback_utils.py\", line 92, in error_handler\n      return fn(*args, **kwargs)\n    File \"/global/common/software/nersc/pm-2022q2/sw/tensorflow/2.9.0/lib/python3.9/site-packages/keras/engine/functional.py\", line 458, in call\n      return self._run_internal_graph(\n    File \"/global/common/software/nersc/pm-2022q2/sw/tensorflow/2.9.0/lib/python3.9/site-packages/keras/engine/functional.py\", line 596, in _run_internal_graph\n      outputs = node.layer(*args, **kwargs)\n    File \"/global/common/software/nersc/pm-2022q2/sw/tensorflow/2.9.0/lib/python3.9/site-packages/keras/utils/traceback_utils.py\", line 64, in error_handler\n      return fn(*args, **kwargs)\n    File \"/global/common/software/nersc/pm-2022q2/sw/tensorflow/2.9.0/lib/python3.9/site-packages/keras/engine/base_layer.py\", line 1014, in __call__\n      outputs = call_fn(inputs, *args, **kwargs)\n    File \"/global/common/software/nersc/pm-2022q2/sw/tensorflow/2.9.0/lib/python3.9/site-packages/keras/utils/traceback_utils.py\", line 92, in error_handler\n      return fn(*args, **kwargs)\n    File \"/global/common/software/nersc/pm-2022q2/sw/tensorflow/2.9.0/lib/python3.9/site-packages/keras/layers/core/activation.py\", line 57, in call\n      return self.activation(inputs)\n    File \"/global/common/software/nersc/pm-2022q2/sw/tensorflow/2.9.0/lib/python3.9/site-packages/keras/activations.py\", line 311, in relu\n      return backend.relu(x, alpha=alpha, max_value=max_value, threshold=threshold)\n    File \"/global/common/software/nersc/pm-2022q2/sw/tensorflow/2.9.0/lib/python3.9/site-packages/keras/backend.py\", line 4992, in relu\n      x = tf.nn.relu(x)\nNode: 'model/0/0/activation/Relu'\n2 root error(s) found.\n  (0) UNIMPLEMENTED:  DNN library is not found.\n\t [[{{node model/0/0/activation/Relu}}]]\n\t [[Add_3/ReadVariableOp_1/_168]]\n  (1) UNIMPLEMENTED:  DNN library is not found.\n\t [[{{node model/0/0/activation/Relu}}]]\n0 successful operations.\n0 derived errors ignored. [Op:__inference_train_function_17259]"
     ]
    }
   ],
   "source": [
    "import time\n",
    "\n",
    "time_start = time.perf_counter()\n",
    "\n",
    "model.fit(train, validation_data=validate, epochs=num_epochs, steps_per_epoch=len(ytrain)//bs, callbacks=cbs, verbose=1, batch_size=bs, validation_steps=len(yval)//bs)\n",
    "\n",
    "time_end = time.perf_counter()\n",
    "\n",
    "print(time_end - time_start)"
   ]
  },
  {
   "cell_type": "code",
   "execution_count": null,
   "id": "3b108157",
   "metadata": {},
   "outputs": [],
   "source": []
  },
  {
   "cell_type": "code",
   "execution_count": null,
   "id": "d554d0b9",
   "metadata": {},
   "outputs": [],
   "source": []
  },
  {
   "cell_type": "code",
   "execution_count": null,
   "id": "60b49282",
   "metadata": {},
   "outputs": [],
   "source": []
  },
  {
   "cell_type": "code",
   "execution_count": 19,
   "id": "389d753b-3681-4441-aab7-ce5c5359291b",
   "metadata": {},
   "outputs": [],
   "source": [
    "path_results = \"shielded_model_TS33_gelu.csv\""
   ]
  },
  {
   "cell_type": "code",
   "execution_count": 20,
   "id": "91a17d6d-b8b0-4695-ab9f-9483fa6988be",
   "metadata": {},
   "outputs": [
    {
     "data": {
      "image/png": "[encoded data removed]",
      "text/plain": [
       "<Figure size 432x288 with 1 Axes>"
      ]
     },
     "metadata": {
      "needs_background": "light"
     },
     "output_type": "display_data"
    },
    {
     "name": "stdout",
     "output_type": "stream",
     "text": [
      "0.9974\n"
     ]
    }
   ],
   "source": [
    "metric = \"_2\"\n",
    "df = pd.read_csv(path_results)\n",
    "largest = [max(df[\"val_auc\" + metric][:i+1]) for i in range(len(df))]\n",
    "plt.plot(df[\"auc\" + metric],label='train')\n",
    "plt.plot(df[\"val_auc\" + metric], label='val')\n",
    "plt.plot(largest, label='max')\n",
    "plt.legend()\n",
    "plt.ylim(0.95,1)\n",
    "plt.show()\n",
    "\n",
    "auc = max(df[\"val_auc\" + metric])\n",
    "print(f\"{auc:.4f}\")"
   ]
  },
  {
   "cell_type": "code",
   "execution_count": 21,
   "id": "9e585fd6-3d53-4a60-8e3c-6b290c9b64a3",
   "metadata": {},
   "outputs": [
    {
     "data": {
      "image/png": "[encoded data removed]",
      "text/plain": [
       "<Figure size 432x288 with 1 Axes>"
      ]
     },
     "metadata": {
      "needs_background": "light"
     },
     "output_type": "display_data"
    },
    {
     "name": "stdout",
     "output_type": "stream",
     "text": [
      "0.0144\n"
     ]
    }
   ],
   "source": [
    "plt.plot(df[\"val_loss\"])\n",
    "plt.plot(df[\"loss\"])\n",
    "plt.ylim(top=max(df[\"loss\"]), bottom=0)\n",
    "plt.show()\n",
    "val_loss = min(df[\"val_loss\"])\n",
    "print(f\"{val_loss:.4f}\")"
   ]
  }
 ],
 "metadata": {
  "kernelspec": {
   "display_name": "tensorflow-2.9.0",
   "language": "python",
   "name": "tensorflow-2.9.0"
  },
  "language_info": {
   "codemirror_mode": {
    "name": "ipython",
    "version": 3
   },
   "file_extension": ".py",
   "mimetype": "text/x-python",
   "name": "python",
   "nbconvert_exporter": "python",
   "pygments_lexer": "ipython3",
   "version": "3.9.12"
  }
 },
 "nbformat": 4,
 "nbformat_minor": 5
}
